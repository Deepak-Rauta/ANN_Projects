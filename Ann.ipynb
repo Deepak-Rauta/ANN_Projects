{
 "cells": [
  {
   "cell_type": "markdown",
   "id": "635a6fcc",
   "metadata": {},
   "source": [
    "# Import Required Dependencies"
   ]
  },
  {
   "cell_type": "code",
   "execution_count": null,
   "id": "c6c97a45",
   "metadata": {},
   "outputs": [],
   "source": [
    "import pandas as pd\n"
   ]
  }
 ],
 "metadata": {
  "kernelspec": {
   "display_name": "DL",
   "language": "python",
   "name": "python3"
  },
  "language_info": {
   "name": "python",
   "version": "3.8.20"
  }
 },
 "nbformat": 4,
 "nbformat_minor": 5
}
